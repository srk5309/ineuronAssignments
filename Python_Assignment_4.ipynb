{
 "cells": [
  {
   "cell_type": "markdown",
   "metadata": {},
   "source": [
    "1.1 Write a Python Program(with class concepts) to find the area of the triangle using the below\n",
    "formula.\n",
    "\n",
    "area = (s*(s-a)*(s-b)*(s-c)) ** 0.5"
   ]
  },
  {
   "cell_type": "code",
   "execution_count": 1,
   "metadata": {},
   "outputs": [
    {
     "name": "stdout",
     "output_type": "stream",
     "text": [
      "Enter the value of side a : 5\n",
      "Enter the value of side b : 5\n",
      "Enter the value of side c : 5\n"
     ]
    }
   ],
   "source": [
    "class TriangleParent:\n",
    "    def __init__(self,a,b,c):\n",
    "        self.a = a\n",
    "        self.b = b\n",
    "        self.c = c\n",
    "class TriangleSubclass(TriangleParent):\n",
    "    def __init__(self,*args):\n",
    "        super(TriangleSubclass,self).__init__(*args)\n",
    "    def calculateArea(self):\n",
    "        s = (self.a + self.b + self.c)/2\n",
    "        return (s*(s-self.a)*(s-self.b)*(s-self.c))**0.5\n",
    "        \n",
    "        \n",
    "a = int(input('Enter the value of side a : '))\n",
    "b = int(input('Enter the value of side b : '))\n",
    "c = int(input('Enter the value of side c : '))\n",
    "t = TriangleSubclass(a,b,c)    "
   ]
  },
  {
   "cell_type": "code",
   "execution_count": 2,
   "metadata": {},
   "outputs": [
    {
     "data": {
      "text/plain": [
       "10.825317547305483"
      ]
     },
     "execution_count": 2,
     "metadata": {},
     "output_type": "execute_result"
    }
   ],
   "source": [
    "t.calculateArea()"
   ]
  },
  {
   "cell_type": "markdown",
   "metadata": {},
   "source": [
    "1.2 Write a function filter_long_words() that takes a list of words and an integer n and returns\n",
    "the list of words that are longer than n."
   ]
  },
  {
   "cell_type": "code",
   "execution_count": 3,
   "metadata": {},
   "outputs": [
    {
     "name": "stdout",
     "output_type": "stream",
     "text": [
      "['fd', 'f', 'hh']\n"
     ]
    }
   ],
   "source": [
    "def filter_long_words(n,l):\n",
    "    z = list(filter(lambda x: True if len(x)<=n else False,l))\n",
    "    print(z)\n",
    "\n",
    "filter_long_words(2,[\"fd\",'fdd','ffff','f','ggg','hh'])"
   ]
  },
  {
   "cell_type": "markdown",
   "metadata": {},
   "source": [
    "2.1 Write a Python program using function concept that maps list of words into a list of integers\n",
    "representing the lengths of the corresponding words."
   ]
  },
  {
   "cell_type": "code",
   "execution_count": 4,
   "metadata": {},
   "outputs": [
    {
     "name": "stdout",
     "output_type": "stream",
     "text": [
      "[2, 3, 4, 1, 3, 2]\n"
     ]
    }
   ],
   "source": [
    "def wordsToints(l):\n",
    "    for i in range(len(l)):\n",
    "        l[i] = len(l[i])\n",
    "    print(l)\n",
    " \n",
    "wordsToints([\"fd\",'fdd','ffff','f','ggg','hh'])"
   ]
  },
  {
   "cell_type": "markdown",
   "metadata": {},
   "source": [
    "2.2 Write a Python function which takes a character (i.e. a string of length 1) and returns True if\n",
    "it is a vowel, False otherwise."
   ]
  },
  {
   "cell_type": "code",
   "execution_count": 5,
   "metadata": {},
   "outputs": [
    {
     "name": "stdout",
     "output_type": "stream",
     "text": [
      "Enter a single character : e\n",
      "True\n"
     ]
    }
   ],
   "source": [
    "def checkVowel(c):\n",
    "    if(len(c)==1):\n",
    "        return True if c in ['a','e','i','o','u'] else False\n",
    "    else:\n",
    "        return 'Enter a character only'\n",
    "\n",
    "c = input('Enter a single character : ')\n",
    "print(checkVowel(c))"
   ]
  },
  {
   "cell_type": "code",
   "execution_count": null,
   "metadata": {},
   "outputs": [],
   "source": []
  }
 ],
 "metadata": {
  "kernelspec": {
   "display_name": "Python 3",
   "language": "python",
   "name": "python3"
  },
  "language_info": {
   "codemirror_mode": {
    "name": "ipython",
    "version": 3
   },
   "file_extension": ".py",
   "mimetype": "text/x-python",
   "name": "python",
   "nbconvert_exporter": "python",
   "pygments_lexer": "ipython3",
   "version": "3.8.5"
  }
 },
 "nbformat": 4,
 "nbformat_minor": 4
}
